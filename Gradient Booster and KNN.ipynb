{
 "cells": [
  {
   "cell_type": "code",
   "execution_count": 22,
   "id": "49674a56",
   "metadata": {},
   "outputs": [],
   "source": [
    "import pandas as pd\n",
    "import numpy as np\n",
    "import matplotlib.pyplot as plt\n",
    "import seaborn as sns\n",
    "from sklearn.linear_model import LinearRegression, LogisticRegression\n",
    "from sklearn.ensemble import AdaBoostClassifier, GradientBoostingClassifier, StackingClassifier\n",
    "from sklearn.model_selection import cross_val_score, train_test_split, GridSearchCV\n",
    "from sklearn.pipeline import Pipeline\n",
    "from sklearn.neighbors import KNeighborsRegressor, KNeighborsClassifier\n",
    "from sklearn.metrics import mean_squared_error, f1_score, plot_confusion_matrix, confusion_matrix"
   ]
  },
  {
   "cell_type": "code",
   "execution_count": 2,
   "id": "e03af1fe",
   "metadata": {},
   "outputs": [],
   "source": [
    "df = pd.read_csv('./data/cheapcleaned.csv')"
   ]
  },
  {
   "cell_type": "code",
   "execution_count": 3,
   "id": "16108064",
   "metadata": {},
   "outputs": [],
   "source": [
    "X = df.drop(columns='wage')\n",
    "y = df['wage']"
   ]
  },
  {
   "cell_type": "code",
   "execution_count": 4,
   "id": "8027f1fc",
   "metadata": {},
   "outputs": [],
   "source": [
    "X_train, X_test, y_train, y_test = train_test_split(X, y, random_state=42, stratify=y)"
   ]
  },
  {
   "cell_type": "code",
   "execution_count": 19,
   "id": "840394b9",
   "metadata": {},
   "outputs": [
    {
     "name": "stdout",
     "output_type": "stream",
     "text": [
      "0.8572912646609729\n"
     ]
    },
    {
     "data": {
      "text/plain": [
       "{'gb__learning_rate': 0.15,\n",
       " 'gb__loss': 'exponential',\n",
       " 'gb__min_samples_leaf': 1,\n",
       " 'gb__n_estimators': 100,\n",
       " 'gb__random_state': None,\n",
       " 'gb__subsample': 1.0}"
      ]
     },
     "execution_count": 19,
     "metadata": {},
     "output_type": "execute_result"
    }
   ],
   "source": [
    "pipe = Pipeline([\n",
    "    ('gb', GradientBoostingClassifier())\n",
    "])\n",
    "params = {\n",
    "    'gb__loss': ['exponential'],\n",
    "    'gb__learning_rate': [.15],\n",
    "    'gb__n_estimators': [100],\n",
    "    'gb__subsample': [1.0],\n",
    "    'gb__min_samples_leaf':[1],\n",
    "    'gb__random_state':[None]\n",
    "}\n",
    "gs = GridSearchCV(pipe, param_grid=params)\n",
    "gs.fit(X_train, y_train)\n",
    "print(gs.best_score_)\n",
    "gs.best_params_"
   ]
  },
  {
   "cell_type": "code",
   "execution_count": 23,
   "id": "31472ff9",
   "metadata": {},
   "outputs": [
    {
     "data": {
      "text/plain": [
       "<sklearn.metrics._plot.confusion_matrix.ConfusionMatrixDisplay at 0x7fc0bfff5100>"
      ]
     },
     "execution_count": 23,
     "metadata": {},
     "output_type": "execute_result"
    },
    {
     "data": {
      "image/png": "[encoded data removed]",
      "text/plain": [
       "<Figure size 432x288 with 2 Axes>"
      ]
     },
     "metadata": {
      "needs_background": "light"
     },
     "output_type": "display_data"
    }
   ],
   "source": [
    "plot_confusion_matrix(gs, X_test, y_test, display_labels=['Under 50K', 'Over 50K'])"
   ]
  },
  {
   "cell_type": "code",
   "execution_count": 25,
   "id": "40bd4497",
   "metadata": {},
   "outputs": [
    {
     "data": {
      "text/plain": [
       "Pipeline(steps=[('gb', GradientBoostingClassifier())])"
      ]
     },
     "execution_count": 25,
     "metadata": {},
     "output_type": "execute_result"
    }
   ],
   "source": [
    "gs.fit(X_train, y_train)"
   ]
  },
  {
   "cell_type": "code",
   "execution_count": 30,
   "id": "cc33bbc0",
   "metadata": {},
   "outputs": [
    {
     "data": {
      "text/plain": [
       "(0.7228003784295175, 0.6732394366197184)"
      ]
     },
     "execution_count": 30,
     "metadata": {},
     "output_type": "execute_result"
    }
   ],
   "source": [
    "gb_preds_train = gs.predict(X_train)\n",
    "gb_preds = gs.predict(X_test)\n",
    "gb_f1_train = f1_score(y_train, gb_preds_train)\n",
    "gb_f1 = f1_score(y_test, gb_preds)\n",
    "gb_f1_train, gb_f1"
   ]
  },
  {
   "cell_type": "code",
   "execution_count": 29,
   "id": "a6123771",
   "metadata": {},
   "outputs": [
    {
     "name": "stdout",
     "output_type": "stream",
     "text": [
      "0.8316985334832291\n"
     ]
    },
    {
     "data": {
      "text/plain": [
       "{'knn__metric': 'manhattan', 'knn__n_neighbors': 26, 'knn__weights': 'uniform'}"
      ]
     },
     "execution_count": 29,
     "metadata": {},
     "output_type": "execute_result"
    }
   ],
   "source": [
    "from sklearn.preprocessing import StandardScaler\n",
    "knn_pipe = Pipeline([\n",
    "    ('ss', StandardScaler()),\n",
    "    ('knn', KNeighborsClassifier())\n",
    "])\n",
    "\n",
    "knn_params = {\n",
    "    'knn__n_neighbors': [26],\n",
    "    'knn__metric': ['manhattan'],\n",
    "    'knn__weights': ['uniform'],\n",
    "}\n",
    "\n",
    "knn_gs = GridSearchCV(knn_pipe, param_grid=knn_params)\n",
    "knn_gs.fit(X_train, y_train)\n",
    "print(knn_gs.best_score_)\n",
    "knn_gs.best_params_"
   ]
  },
  {
   "cell_type": "code",
   "execution_count": 31,
   "id": "e26cb165",
   "metadata": {},
   "outputs": [
    {
     "data": {
      "text/plain": [
       "<sklearn.metrics._plot.confusion_matrix.ConfusionMatrixDisplay at 0x7fc0c0429100>"
      ]
     },
     "execution_count": 31,
     "metadata": {},
     "output_type": "execute_result"
    },
    {
     "data": {
      "image/png": "[encoded data removed]",
      "text/plain": [
       "<Figure size 432x288 with 2 Axes>"
      ]
     },
     "metadata": {
      "needs_background": "light"
     },
     "output_type": "display_data"
    }
   ],
   "source": [
    "plot_confusion_matrix(knn_gs, X_test, y_test, display_labels=['Under 50K', 'Over 50K'])"
   ]
  },
  {
   "cell_type": "code",
   "execution_count": null,
   "id": "6d0bf3fb",
   "metadata": {},
   "outputs": [],
   "source": []
  }
 ],
 "metadata": {
  "kernelspec": {
   "display_name": "Python 3",
   "language": "python",
   "name": "python3"
  },
  "language_info": {
   "codemirror_mode": {
    "name": "ipython",
    "version": 3
   },
   "file_extension": ".py",
   "mimetype": "text/x-python",
   "name": "python",
   "nbconvert_exporter": "python",
   "pygments_lexer": "ipython3",
   "version": "3.8.8"
  }
 },
 "nbformat": 4,
 "nbformat_minor": 5
}
