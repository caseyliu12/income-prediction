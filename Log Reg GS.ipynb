{
 "cells": [
  {
   "cell_type": "code",
   "execution_count": 49,
   "id": "e4f46dba",
   "metadata": {},
   "outputs": [],
   "source": [
    "import numpy as np\n",
    "import pandas as pd\n",
    "import matplotlib.pyplot as plt\n",
    "import seaborn as sns\n",
    "from sklearn.model_selection import cross_val_score, train_test_split, GridSearchCV\n",
    "from sklearn.linear_model import LinearRegression, LogisticRegression\n",
    "from sklearn.tree import DecisionTreeRegressor, DecisionTreeClassifier\n",
    "from sklearn.ensemble import RandomForestClassifier, AdaBoostClassifier, BaggingClassifier, GradientBoostingClassifier\n",
    "from sklearn.ensemble import RandomForestRegressor, AdaBoostRegressor, GradientBoostingRegressor, BaggingRegressor, StackingClassifier\n",
    "from sklearn.neighbors import KNeighborsRegressor, KNeighborsClassifier\n",
    "from sklearn.preprocessing import StandardScaler\n",
    "from sklearn.metrics import mean_squared_error, f1_score, plot_confusion_matrix\n",
    "from sklearn.pipeline import Pipeline"
   ]
  },
  {
   "cell_type": "code",
   "execution_count": 2,
   "id": "afef9966",
   "metadata": {},
   "outputs": [
    {
     "data": {
      "text/html": [
       "<div>\n",
       "<style scoped>\n",
       "    .dataframe tbody tr th:only-of-type {\n",
       "        vertical-align: middle;\n",
       "    }\n",
       "\n",
       "    .dataframe tbody tr th {\n",
       "        vertical-align: top;\n",
       "    }\n",
       "\n",
       "    .dataframe thead th {\n",
       "        text-align: right;\n",
       "    }\n",
       "</style>\n",
       "<table border=\"1\" class=\"dataframe\">\n",
       "  <thead>\n",
       "    <tr style=\"text-align: right;\">\n",
       "      <th></th>\n",
       "      <th>Unnamed: 0</th>\n",
       "      <th>age</th>\n",
       "      <th>fnlwgt</th>\n",
       "      <th>education-num</th>\n",
       "      <th>capital-gain</th>\n",
       "      <th>capital-loss</th>\n",
       "      <th>hours-per-week</th>\n",
       "      <th>wage</th>\n",
       "      <th>workclass_ Federal-gov</th>\n",
       "      <th>workclass_ Local-gov</th>\n",
       "      <th>...</th>\n",
       "      <th>native-country_ Portugal</th>\n",
       "      <th>native-country_ Puerto-Rico</th>\n",
       "      <th>native-country_ Scotland</th>\n",
       "      <th>native-country_ South</th>\n",
       "      <th>native-country_ Taiwan</th>\n",
       "      <th>native-country_ Thailand</th>\n",
       "      <th>native-country_ Trinadad&amp;Tobago</th>\n",
       "      <th>native-country_ United-States</th>\n",
       "      <th>native-country_ Vietnam</th>\n",
       "      <th>native-country_ Yugoslavia</th>\n",
       "    </tr>\n",
       "  </thead>\n",
       "  <tbody>\n",
       "    <tr>\n",
       "      <th>0</th>\n",
       "      <td>0</td>\n",
       "      <td>56</td>\n",
       "      <td>346033</td>\n",
       "      <td>5</td>\n",
       "      <td>0</td>\n",
       "      <td>0</td>\n",
       "      <td>40</td>\n",
       "      <td>0</td>\n",
       "      <td>0</td>\n",
       "      <td>0</td>\n",
       "      <td>...</td>\n",
       "      <td>0</td>\n",
       "      <td>0</td>\n",
       "      <td>0</td>\n",
       "      <td>0</td>\n",
       "      <td>0</td>\n",
       "      <td>0</td>\n",
       "      <td>0</td>\n",
       "      <td>1</td>\n",
       "      <td>0</td>\n",
       "      <td>0</td>\n",
       "    </tr>\n",
       "    <tr>\n",
       "      <th>1</th>\n",
       "      <td>1</td>\n",
       "      <td>28</td>\n",
       "      <td>96226</td>\n",
       "      <td>9</td>\n",
       "      <td>0</td>\n",
       "      <td>0</td>\n",
       "      <td>45</td>\n",
       "      <td>0</td>\n",
       "      <td>0</td>\n",
       "      <td>0</td>\n",
       "      <td>...</td>\n",
       "      <td>0</td>\n",
       "      <td>0</td>\n",
       "      <td>0</td>\n",
       "      <td>0</td>\n",
       "      <td>0</td>\n",
       "      <td>0</td>\n",
       "      <td>0</td>\n",
       "      <td>1</td>\n",
       "      <td>0</td>\n",
       "      <td>0</td>\n",
       "    </tr>\n",
       "    <tr>\n",
       "      <th>2</th>\n",
       "      <td>2</td>\n",
       "      <td>33</td>\n",
       "      <td>251120</td>\n",
       "      <td>13</td>\n",
       "      <td>7688</td>\n",
       "      <td>0</td>\n",
       "      <td>50</td>\n",
       "      <td>1</td>\n",
       "      <td>0</td>\n",
       "      <td>0</td>\n",
       "      <td>...</td>\n",
       "      <td>0</td>\n",
       "      <td>0</td>\n",
       "      <td>0</td>\n",
       "      <td>0</td>\n",
       "      <td>0</td>\n",
       "      <td>0</td>\n",
       "      <td>0</td>\n",
       "      <td>1</td>\n",
       "      <td>0</td>\n",
       "      <td>0</td>\n",
       "    </tr>\n",
       "    <tr>\n",
       "      <th>3</th>\n",
       "      <td>3</td>\n",
       "      <td>26</td>\n",
       "      <td>178140</td>\n",
       "      <td>13</td>\n",
       "      <td>0</td>\n",
       "      <td>0</td>\n",
       "      <td>45</td>\n",
       "      <td>1</td>\n",
       "      <td>0</td>\n",
       "      <td>0</td>\n",
       "      <td>...</td>\n",
       "      <td>0</td>\n",
       "      <td>0</td>\n",
       "      <td>0</td>\n",
       "      <td>0</td>\n",
       "      <td>0</td>\n",
       "      <td>0</td>\n",
       "      <td>0</td>\n",
       "      <td>1</td>\n",
       "      <td>0</td>\n",
       "      <td>0</td>\n",
       "    </tr>\n",
       "    <tr>\n",
       "      <th>4</th>\n",
       "      <td>4</td>\n",
       "      <td>40</td>\n",
       "      <td>56795</td>\n",
       "      <td>14</td>\n",
       "      <td>14084</td>\n",
       "      <td>0</td>\n",
       "      <td>55</td>\n",
       "      <td>1</td>\n",
       "      <td>1</td>\n",
       "      <td>0</td>\n",
       "      <td>...</td>\n",
       "      <td>0</td>\n",
       "      <td>0</td>\n",
       "      <td>0</td>\n",
       "      <td>0</td>\n",
       "      <td>0</td>\n",
       "      <td>0</td>\n",
       "      <td>0</td>\n",
       "      <td>1</td>\n",
       "      <td>0</td>\n",
       "      <td>0</td>\n",
       "    </tr>\n",
       "  </tbody>\n",
       "</table>\n",
       "<p>5 rows × 97 columns</p>\n",
       "</div>"
      ],
      "text/plain": [
       "   Unnamed: 0  age  fnlwgt  education-num  capital-gain  capital-loss  \\\n",
       "0           0   56  346033              5             0             0   \n",
       "1           1   28   96226              9             0             0   \n",
       "2           2   33  251120             13          7688             0   \n",
       "3           3   26  178140             13             0             0   \n",
       "4           4   40   56795             14         14084             0   \n",
       "\n",
       "   hours-per-week  wage  workclass_ Federal-gov  workclass_ Local-gov  ...  \\\n",
       "0              40     0                       0                     0  ...   \n",
       "1              45     0                       0                     0  ...   \n",
       "2              50     1                       0                     0  ...   \n",
       "3              45     1                       0                     0  ...   \n",
       "4              55     1                       1                     0  ...   \n",
       "\n",
       "   native-country_ Portugal  native-country_ Puerto-Rico  \\\n",
       "0                         0                            0   \n",
       "1                         0                            0   \n",
       "2                         0                            0   \n",
       "3                         0                            0   \n",
       "4                         0                            0   \n",
       "\n",
       "   native-country_ Scotland  native-country_ South  native-country_ Taiwan  \\\n",
       "0                         0                      0                       0   \n",
       "1                         0                      0                       0   \n",
       "2                         0                      0                       0   \n",
       "3                         0                      0                       0   \n",
       "4                         0                      0                       0   \n",
       "\n",
       "   native-country_ Thailand  native-country_ Trinadad&Tobago  \\\n",
       "0                         0                                0   \n",
       "1                         0                                0   \n",
       "2                         0                                0   \n",
       "3                         0                                0   \n",
       "4                         0                                0   \n",
       "\n",
       "   native-country_ United-States  native-country_ Vietnam  \\\n",
       "0                              1                        0   \n",
       "1                              1                        0   \n",
       "2                              1                        0   \n",
       "3                              1                        0   \n",
       "4                              1                        0   \n",
       "\n",
       "   native-country_ Yugoslavia  \n",
       "0                           0  \n",
       "1                           0  \n",
       "2                           0  \n",
       "3                           0  \n",
       "4                           0  \n",
       "\n",
       "[5 rows x 97 columns]"
      ]
     },
     "execution_count": 2,
     "metadata": {},
     "output_type": "execute_result"
    }
   ],
   "source": [
    "df = pd.read_csv('./data/cleanedcheapclean.csv')\n",
    "df.head()"
   ]
  },
  {
   "cell_type": "code",
   "execution_count": 4,
   "id": "1739f48d",
   "metadata": {},
   "outputs": [],
   "source": [
    "df = df.drop(columns=['Unnamed: 0'])"
   ]
  },
  {
   "cell_type": "code",
   "execution_count": 6,
   "id": "f0e666bd",
   "metadata": {},
   "outputs": [],
   "source": [
    "X = df.drop(columns=['wage'])\n",
    "y = df['wage']\n",
    "X_train, X_test, y_train, y_test = train_test_split(X, y, random_state=42, stratify=y)"
   ]
  },
  {
   "cell_type": "code",
   "execution_count": 35,
   "id": "9a30b909",
   "metadata": {},
   "outputs": [],
   "source": [
    "pipe = Pipeline([\n",
    "    ('ss', StandardScaler()),\n",
    "    ('model', LogisticRegression(max_iter=1_000))\n",
    "])"
   ]
  },
  {
   "cell_type": "code",
   "execution_count": 39,
   "id": "52da6ecb",
   "metadata": {},
   "outputs": [
    {
     "name": "stdout",
     "output_type": "stream",
     "text": [
      "0.8484881789351814\n"
     ]
    },
    {
     "data": {
      "text/plain": [
       "{'model__C': 1,\n",
       " 'model__class_weight': None,\n",
       " 'model__fit_intercept': True,\n",
       " 'model__multi_class': 'auto',\n",
       " 'model__penalty': 'l2',\n",
       " 'model__random_state': 1,\n",
       " 'model__solver': 'lbfgs',\n",
       " 'model__warm_start': False}"
      ]
     },
     "execution_count": 39,
     "metadata": {},
     "output_type": "execute_result"
    }
   ],
   "source": [
    "params = {\n",
    "    'model__penalty': ['l2'],\n",
    "    'model__solver': ['lbfgs'],\n",
    "    'model__C': [1],\n",
    "    'model__fit_intercept': [True],\n",
    "    'model__class_weight': [None],\n",
    "    'model__multi_class': ['auto'],\n",
    "    'model__warm_start': [False],\n",
    "    'model__random_state': [1, 2, 3, 4, 5, 6, 7, 8, 9, 10, 11, 12]\n",
    "}\n",
    "gs = GridSearchCV(pipe, param_grid=params)\n",
    "gs.fit(X_train, y_train)\n",
    "print(gs.best_score_)\n",
    "gs.best_params_"
   ]
  },
  {
   "cell_type": "code",
   "execution_count": null,
   "id": "5a5feb48",
   "metadata": {},
   "outputs": [],
   "source": []
  },
  {
   "cell_type": "code",
   "execution_count": 40,
   "id": "41ec9791",
   "metadata": {},
   "outputs": [
    {
     "data": {
      "image/png": "[encoded data removed]",
      "text/plain": [
       "<Figure size 432x432 with 2 Axes>"
      ]
     },
     "metadata": {
      "needs_background": "light"
     },
     "output_type": "display_data"
    }
   ],
   "source": [
    "fig, ax = plt.subplots(figsize=(6, 6))\n",
    "plot_confusion_matrix(gs, X_test, y_test, display_labels=['<=50k', '>50K'], ax=ax)\n",
    "plt.title('Log Reg Confusion Matrix', size=15)\n",
    "plt.xlabel('Predicted Label', size=12)\n",
    "plt.ylabel('True Label', size=12);"
   ]
  },
  {
   "cell_type": "code",
   "execution_count": 43,
   "id": "9ff35715",
   "metadata": {},
   "outputs": [],
   "source": [
    "gspreds = gs.predict(X_train)"
   ]
  },
  {
   "cell_type": "code",
   "execution_count": 45,
   "id": "630ffd63",
   "metadata": {},
   "outputs": [],
   "source": [
    "gspredstest = gs.predict(X_test)"
   ]
  },
  {
   "cell_type": "code",
   "execution_count": 44,
   "id": "2bbc73c2",
   "metadata": {},
   "outputs": [
    {
     "data": {
      "text/plain": [
       "0.6729500471253534"
      ]
     },
     "execution_count": 44,
     "metadata": {},
     "output_type": "execute_result"
    }
   ],
   "source": [
    "f1_score(y_train, gspreds)"
   ]
  },
  {
   "cell_type": "code",
   "execution_count": 46,
   "id": "6a98e3cb",
   "metadata": {},
   "outputs": [
    {
     "data": {
      "text/plain": [
       "0.6420454545454546"
      ]
     },
     "execution_count": 46,
     "metadata": {},
     "output_type": "execute_result"
    }
   ],
   "source": [
    "f1_score(y_test, gspredstest)"
   ]
  },
  {
   "cell_type": "markdown",
   "id": "e0a6d717",
   "metadata": {},
   "source": [
    "# Stack Model"
   ]
  },
  {
   "cell_type": "code",
   "execution_count": 52,
   "id": "41cb5bd3",
   "metadata": {},
   "outputs": [],
   "source": [
    "level_1_models = [\n",
    "    ('logreg_pipe', Pipeline([\n",
    "        ('ss', StandardScaler()),\n",
    "        ('logreg', LogisticRegression(max_iter=1_000))\n",
    "    ])),          \n",
    "     ('knn_pipe', Pipeline([\n",
    "        ('ss', StandardScaler()),\n",
    "        ('knn', KNeighborsClassifier(n_neighbors=26, metric='manhattan', weights='uniform'))\n",
    "    ])),\n",
    "     ('gb', GradientBoostingClassifier(loss='exponential', learning_rate=.15, \n",
    "                                       n_estimators=100, subsample=1.0, min_samples_leaf=1)),\n",
    "     ('rf', RandomForestClassifier(criterion= 'entropy', max_features= 'auto', n_estimators= 100))\n",
    "]\n",
    "\n",
    "stackgb = StackingClassifier(estimators=level_1_models, final_estimator=GradientBoostingClassifier())\n",
    "stacklogreg = StackingClassifier(estimators=level_1_models, final_estimator=LogisticRegression())\n",
    "stackknn = StackingClassifier(estimators=level_1_models, final_estimator=KNeighborsClassifier())\n",
    "stackrf = StackingClassifier(estimators=level_1_models, final_estimator=RandomForestClassifier())"
   ]
  },
  {
   "cell_type": "code",
   "execution_count": 53,
   "id": "8b141b7e",
   "metadata": {},
   "outputs": [
    {
     "data": {
      "text/plain": [
       "0.8529917613302684"
      ]
     },
     "execution_count": 53,
     "metadata": {},
     "output_type": "execute_result"
    }
   ],
   "source": [
    "cross_val_score(stackgb, X_train, y_train).mean()"
   ]
  },
  {
   "cell_type": "code",
   "execution_count": 54,
   "id": "e9854dc6",
   "metadata": {},
   "outputs": [
    {
     "data": {
      "text/plain": [
       "0.8558580968840713"
      ]
     },
     "execution_count": 54,
     "metadata": {},
     "output_type": "execute_result"
    }
   ],
   "source": [
    "cross_val_score(stacklogreg, X_train, y_train).mean()"
   ]
  },
  {
   "cell_type": "code",
   "execution_count": 55,
   "id": "625fb1b1",
   "metadata": {},
   "outputs": [
    {
     "data": {
      "text/plain": [
       "0.8421357199187879"
      ]
     },
     "execution_count": 55,
     "metadata": {},
     "output_type": "execute_result"
    }
   ],
   "source": [
    "cross_val_score(stackknn, X_train, y_train).mean()"
   ]
  },
  {
   "cell_type": "code",
   "execution_count": 56,
   "id": "5afd4054",
   "metadata": {},
   "outputs": [
    {
     "data": {
      "text/plain": [
       "0.8417294494689329"
      ]
     },
     "execution_count": 56,
     "metadata": {},
     "output_type": "execute_result"
    }
   ],
   "source": [
    "cross_val_score(stackrf, X_train, y_train).mean()"
   ]
  },
  {
   "cell_type": "code",
   "execution_count": 58,
   "id": "5b803589",
   "metadata": {},
   "outputs": [],
   "source": [
    "stacklogreg.fit(X_train, y_train);"
   ]
  },
  {
   "cell_type": "code",
   "execution_count": 69,
   "id": "5021d79b",
   "metadata": {},
   "outputs": [],
   "source": [
    "xtestpreds = stacklogreg.predict(X_test)"
   ]
  },
  {
   "cell_type": "code",
   "execution_count": 59,
   "id": "a26b5e4f",
   "metadata": {},
   "outputs": [
    {
     "data": {
      "image/png": "[encoded data removed]",
      "text/plain": [
       "<Figure size 432x432 with 2 Axes>"
      ]
     },
     "metadata": {
      "needs_background": "light"
     },
     "output_type": "display_data"
    }
   ],
   "source": [
    "fig, ax = plt.subplots(figsize=(6, 6))\n",
    "plot_confusion_matrix(stacklogreg, X_test, y_test, display_labels=['<=50k', '>50K'], cmap='viridis', ax=ax)\n",
    "plt.title('Log Reg Stack Model', size=15)\n",
    "plt.xlabel('Predicted Label', size=12)\n",
    "plt.ylabel('True Label', size=12);"
   ]
  },
  {
   "cell_type": "code",
   "execution_count": 60,
   "id": "0e5af29e",
   "metadata": {},
   "outputs": [],
   "source": [
    "tn1, fp1, fn1, tp1 = 1161, 76, 152, 240"
   ]
  },
  {
   "cell_type": "markdown",
   "id": "dce23f82",
   "metadata": {},
   "source": [
    "### Accuracy"
   ]
  },
  {
   "cell_type": "code",
   "execution_count": 61,
   "id": "c0d40567",
   "metadata": {},
   "outputs": [
    {
     "data": {
      "text/plain": [
       "0.860036832412523"
      ]
     },
     "execution_count": 61,
     "metadata": {},
     "output_type": "execute_result"
    }
   ],
   "source": [
    "(tn1 + tp1) / (tn1 +tp1 + fp1 + fn1)"
   ]
  },
  {
   "cell_type": "markdown",
   "id": "855822be",
   "metadata": {},
   "source": [
    "### Specificity"
   ]
  },
  {
   "cell_type": "code",
   "execution_count": 62,
   "id": "0c741b1d",
   "metadata": {},
   "outputs": [
    {
     "data": {
      "text/plain": [
       "0.9385610347615198"
      ]
     },
     "execution_count": 62,
     "metadata": {},
     "output_type": "execute_result"
    }
   ],
   "source": [
    "tn1 / (tn1 + fp1)"
   ]
  },
  {
   "cell_type": "markdown",
   "id": "8056021f",
   "metadata": {},
   "source": [
    "### Sensitivity"
   ]
  },
  {
   "cell_type": "code",
   "execution_count": 83,
   "id": "a07e9600",
   "metadata": {},
   "outputs": [],
   "source": [
    "recall = tp1 / (tp1 + fn1)"
   ]
  },
  {
   "cell_type": "markdown",
   "id": "55574bf2",
   "metadata": {},
   "source": [
    "### Precision"
   ]
  },
  {
   "cell_type": "code",
   "execution_count": 82,
   "id": "023931ca",
   "metadata": {},
   "outputs": [],
   "source": [
    "precision = tp1 / (tp1 + fp1)"
   ]
  },
  {
   "cell_type": "markdown",
   "id": "4a508af5",
   "metadata": {},
   "source": [
    "### F1 Score"
   ]
  },
  {
   "cell_type": "code",
   "execution_count": 70,
   "id": "4ef4a532",
   "metadata": {},
   "outputs": [
    {
     "data": {
      "text/plain": [
       "0.6779661016949152"
      ]
     },
     "execution_count": 70,
     "metadata": {},
     "output_type": "execute_result"
    }
   ],
   "source": [
    "f1_score(y_test, xtestpreds)"
   ]
  },
  {
   "cell_type": "code",
   "execution_count": 72,
   "id": "b76befca",
   "metadata": {},
   "outputs": [],
   "source": [
    "import sklearn.metrics as metrics"
   ]
  },
  {
   "cell_type": "code",
   "execution_count": 73,
   "id": "47064f2e",
   "metadata": {},
   "outputs": [
    {
     "data": {
      "image/png": "[encoded data removed]",
      "text/plain": [
       "<Figure size 432x288 with 1 Axes>"
      ]
     },
     "metadata": {
      "needs_background": "light"
     },
     "output_type": "display_data"
    }
   ],
   "source": [
    "# ROC curve\n",
    "metrics.plot_roc_curve(stacklogreg, X_test, y_test)\n",
    "# add worst case scenario line\n",
    "plt.plot([0,1], [0,1], label='Baseline')\n",
    "# add a legend\n",
    "plt.legend();"
   ]
  },
  {
   "cell_type": "code",
   "execution_count": 77,
   "id": "b1d91f9e",
   "metadata": {},
   "outputs": [
    {
     "data": {
      "text/html": [
       "<div>\n",
       "<style scoped>\n",
       "    .dataframe tbody tr th:only-of-type {\n",
       "        vertical-align: middle;\n",
       "    }\n",
       "\n",
       "    .dataframe tbody tr th {\n",
       "        vertical-align: top;\n",
       "    }\n",
       "\n",
       "    .dataframe thead th {\n",
       "        text-align: right;\n",
       "    }\n",
       "</style>\n",
       "<table border=\"1\" class=\"dataframe\">\n",
       "  <thead>\n",
       "    <tr style=\"text-align: right;\">\n",
       "      <th></th>\n",
       "      <th>true_values</th>\n",
       "      <th>pred_probs</th>\n",
       "    </tr>\n",
       "  </thead>\n",
       "  <tbody>\n",
       "    <tr>\n",
       "      <th>1668</th>\n",
       "      <td>0</td>\n",
       "      <td>0.046458</td>\n",
       "    </tr>\n",
       "    <tr>\n",
       "      <th>2031</th>\n",
       "      <td>0</td>\n",
       "      <td>0.040897</td>\n",
       "    </tr>\n",
       "    <tr>\n",
       "      <th>5781</th>\n",
       "      <td>0</td>\n",
       "      <td>0.044846</td>\n",
       "    </tr>\n",
       "    <tr>\n",
       "      <th>988</th>\n",
       "      <td>0</td>\n",
       "      <td>0.041674</td>\n",
       "    </tr>\n",
       "    <tr>\n",
       "      <th>1823</th>\n",
       "      <td>0</td>\n",
       "      <td>0.071194</td>\n",
       "    </tr>\n",
       "  </tbody>\n",
       "</table>\n",
       "</div>"
      ],
      "text/plain": [
       "      true_values  pred_probs\n",
       "1668            0    0.046458\n",
       "2031            0    0.040897\n",
       "5781            0    0.044846\n",
       "988             0    0.041674\n",
       "1823            0    0.071194"
      ]
     },
     "execution_count": 77,
     "metadata": {},
     "output_type": "execute_result"
    }
   ],
   "source": [
    "pred_df = pd.DataFrame({'true_values': y_test,\n",
    "                        'pred_probs': stacklogreg.predict_proba(X_test)[:,1]}) # want 2nd column here\n",
    "\n",
    "pred_df.head()"
   ]
  },
  {
   "cell_type": "code",
   "execution_count": 104,
   "id": "9b78a435",
   "metadata": {},
   "outputs": [
    {
     "name": "stderr",
     "output_type": "stream",
     "text": [
      "C:\\Users\\Spencer\\anaconda3\\lib\\site-packages\\seaborn\\distributions.py:2557: FutureWarning: `distplot` is a deprecated function and will be removed in a future version. Please adapt your code to use either `displot` (a figure-level function with similar flexibility) or `histplot` (an axes-level function for histograms).\n",
      "  warnings.warn(msg, FutureWarning)\n"
     ]
    },
    {
     "data": {
      "image/png": "[encoded data removed]",
      "text/plain": [
       "<Figure size 864x360 with 1 Axes>"
      ]
     },
     "metadata": {
      "needs_background": "light"
     },
     "output_type": "display_data"
    }
   ],
   "source": [
    "plt.figure(figsize = (12, 5))\n",
    "\n",
    "# plot distributions of predicted probabilities by actual values\n",
    "for group in pred_df.groupby('true_values'):\n",
    "    sns.distplot(group[1], kde = False, bins = 20, label = f'Income = {group[0]}')\n",
    "\n",
    "# Add cutoff line\n",
    "plt.axvline(.2, color='red')\n",
    "\n",
    "plt.xlabel('Predicted Probability that Outcome = 1')\n",
    "plt.legend();"
   ]
  },
  {
   "cell_type": "code",
   "execution_count": 75,
   "id": "0fa16744",
   "metadata": {},
   "outputs": [],
   "source": [
    "prob_list = stacklogreg.predict_proba(X_test)[:,1]"
   ]
  },
  {
   "cell_type": "code",
   "execution_count": 80,
   "id": "2919f0aa",
   "metadata": {},
   "outputs": [
    {
     "data": {
      "text/plain": [
       "array([0, 0, 0, ..., 1, 0, 0])"
      ]
     },
     "execution_count": 80,
     "metadata": {},
     "output_type": "execute_result"
    }
   ],
   "source": [
    "cutoff = .2\n",
    "conservative_predictions = np.where(prob_list > cutoff, 1, 0)\n",
    "conservative_predictions"
   ]
  },
  {
   "cell_type": "code",
   "execution_count": 81,
   "id": "4a1e6798",
   "metadata": {},
   "outputs": [],
   "source": [
    "conservative_preds = (prob_list > cutoff).astype(int)"
   ]
  },
  {
   "cell_type": "code",
   "execution_count": 84,
   "id": "cc62c6e9",
   "metadata": {},
   "outputs": [
    {
     "data": {
      "text/plain": [
       "(0.6122448979591837, 0.8418367346938775)"
      ]
     },
     "execution_count": 84,
     "metadata": {},
     "output_type": "execute_result"
    }
   ],
   "source": [
    "recall, metrics.recall_score(y_test, conservative_preds) # recall goes up as cutoff goes down"
   ]
  },
  {
   "cell_type": "code",
   "execution_count": 85,
   "id": "024bc7b6",
   "metadata": {},
   "outputs": [
    {
     "data": {
      "text/plain": [
       "(0.759493670886076, 0.6066176470588235)"
      ]
     },
     "execution_count": 85,
     "metadata": {},
     "output_type": "execute_result"
    }
   ],
   "source": [
    "precision, metrics.precision_score(y_test, conservative_preds) # precision goes down as cutoff goes down"
   ]
  },
  {
   "cell_type": "code",
   "execution_count": null,
   "id": "7eeb1adf",
   "metadata": {},
   "outputs": [],
   "source": []
  },
  {
   "cell_type": "code",
   "execution_count": 86,
   "id": "6825125d",
   "metadata": {},
   "outputs": [
    {
     "data": {
      "text/plain": [
       "array([0, 0, 0, ..., 1, 0, 0])"
      ]
     },
     "execution_count": 86,
     "metadata": {},
     "output_type": "execute_result"
    }
   ],
   "source": [
    "cutoff = .3\n",
    "conservative_predictions1 = np.where(prob_list > cutoff, 1, 0)\n",
    "conservative_predictions1"
   ]
  },
  {
   "cell_type": "code",
   "execution_count": 87,
   "id": "67afe5e0",
   "metadata": {},
   "outputs": [],
   "source": [
    "conservative_preds1 = (prob_list > cutoff).astype(int)"
   ]
  },
  {
   "cell_type": "code",
   "execution_count": 88,
   "id": "9182a2e4",
   "metadata": {},
   "outputs": [
    {
     "data": {
      "text/plain": [
       "(0.6122448979591837, 0.7525510204081632)"
      ]
     },
     "execution_count": 88,
     "metadata": {},
     "output_type": "execute_result"
    }
   ],
   "source": [
    "recall, metrics.recall_score(y_test, conservative_preds1)"
   ]
  },
  {
   "cell_type": "code",
   "execution_count": 89,
   "id": "4b2116db",
   "metadata": {},
   "outputs": [
    {
     "data": {
      "text/plain": [
       "(0.759493670886076, 0.676605504587156)"
      ]
     },
     "execution_count": 89,
     "metadata": {},
     "output_type": "execute_result"
    }
   ],
   "source": [
    "precision, metrics.precision_score(y_test, conservative_preds1)"
   ]
  },
  {
   "cell_type": "code",
   "execution_count": null,
   "id": "385e978c",
   "metadata": {},
   "outputs": [],
   "source": []
  },
  {
   "cell_type": "code",
   "execution_count": 91,
   "id": "684b5eca",
   "metadata": {},
   "outputs": [],
   "source": [
    "pred_df['conservative_predictions'] = conservative_predictions1"
   ]
  },
  {
   "cell_type": "code",
   "execution_count": 93,
   "id": "7afa50c5",
   "metadata": {},
   "outputs": [
    {
     "data": {
      "text/html": [
       "<div>\n",
       "<style scoped>\n",
       "    .dataframe tbody tr th:only-of-type {\n",
       "        vertical-align: middle;\n",
       "    }\n",
       "\n",
       "    .dataframe tbody tr th {\n",
       "        vertical-align: top;\n",
       "    }\n",
       "\n",
       "    .dataframe thead th {\n",
       "        text-align: right;\n",
       "    }\n",
       "</style>\n",
       "<table border=\"1\" class=\"dataframe\">\n",
       "  <thead>\n",
       "    <tr style=\"text-align: right;\">\n",
       "      <th></th>\n",
       "      <th>true_values</th>\n",
       "      <th>pred_probs</th>\n",
       "      <th>conservative_predictions</th>\n",
       "    </tr>\n",
       "  </thead>\n",
       "  <tbody>\n",
       "    <tr>\n",
       "      <th>true_values</th>\n",
       "      <td>1.000000</td>\n",
       "      <td>0.682622</td>\n",
       "      <td>0.616552</td>\n",
       "    </tr>\n",
       "    <tr>\n",
       "      <th>pred_probs</th>\n",
       "      <td>0.682622</td>\n",
       "      <td>1.000000</td>\n",
       "      <td>0.906460</td>\n",
       "    </tr>\n",
       "    <tr>\n",
       "      <th>conservative_predictions</th>\n",
       "      <td>0.616552</td>\n",
       "      <td>0.906460</td>\n",
       "      <td>1.000000</td>\n",
       "    </tr>\n",
       "  </tbody>\n",
       "</table>\n",
       "</div>"
      ],
      "text/plain": [
       "                          true_values  pred_probs  conservative_predictions\n",
       "true_values                  1.000000    0.682622                  0.616552\n",
       "pred_probs                   0.682622    1.000000                  0.906460\n",
       "conservative_predictions     0.616552    0.906460                  1.000000"
      ]
     },
     "execution_count": 93,
     "metadata": {},
     "output_type": "execute_result"
    }
   ],
   "source": [
    "pred_df.corr()"
   ]
  },
  {
   "cell_type": "code",
   "execution_count": null,
   "id": "fa546344",
   "metadata": {},
   "outputs": [],
   "source": []
  }
 ],
 "metadata": {
  "kernelspec": {
   "display_name": "Python 3",
   "language": "python",
   "name": "python3"
  },
  "language_info": {
   "codemirror_mode": {
    "name": "ipython",
    "version": 3
   },
   "file_extension": ".py",
   "mimetype": "text/x-python",
   "name": "python",
   "nbconvert_exporter": "python",
   "pygments_lexer": "ipython3",
   "version": "3.8.8"
  }
 },
 "nbformat": 4,
 "nbformat_minor": 5
}
